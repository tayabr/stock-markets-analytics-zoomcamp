{
  "nbformat": 4,
  "nbformat_minor": 0,
  "metadata": {
    "colab": {
      "provenance": [],
      "authorship_tag": "ABX9TyPExP/ec1zDeuSQ7SeNSe/0",
      "include_colab_link": true
    },
    "kernelspec": {
      "name": "python3",
      "display_name": "Python 3"
    },
    "language_info": {
      "name": "python"
    }
  },
  "cells": [
    {
      "cell_type": "markdown",
      "metadata": {
        "id": "view-in-github",
        "colab_type": "text"
      },
      "source": [
        "<a href=\"https://colab.research.google.com/github/tayabr/stock-markets-analytics-zoomcamp/blob/main/Module_1_Homework.ipynb\" target=\"_parent\"><img src=\"https://colab.research.google.com/assets/colab-badge.svg\" alt=\"Open In Colab\"/></a>"
      ]
    },
    {
      "cell_type": "code",
      "execution_count": 2,
      "metadata": {
        "colab": {
          "base_uri": "https://localhost:8080/"
        },
        "id": "dYWJKKLR1i8V",
        "outputId": "e99358cd-a47d-4db1-f21c-a75d19937a77"
      },
      "outputs": [
        {
          "output_type": "stream",
          "name": "stdout",
          "text": [
            "Requirement already satisfied: yfinance in /usr/local/lib/python3.10/dist-packages (0.2.38)\n",
            "Requirement already satisfied: pandas>=1.3.0 in /usr/local/lib/python3.10/dist-packages (from yfinance) (2.0.3)\n",
            "Requirement already satisfied: numpy>=1.16.5 in /usr/local/lib/python3.10/dist-packages (from yfinance) (1.25.2)\n",
            "Requirement already satisfied: requests>=2.31 in /usr/local/lib/python3.10/dist-packages (from yfinance) (2.31.0)\n",
            "Requirement already satisfied: multitasking>=0.0.7 in /usr/local/lib/python3.10/dist-packages (from yfinance) (0.0.11)\n",
            "Requirement already satisfied: lxml>=4.9.1 in /usr/local/lib/python3.10/dist-packages (from yfinance) (4.9.4)\n",
            "Requirement already satisfied: appdirs>=1.4.4 in /usr/local/lib/python3.10/dist-packages (from yfinance) (1.4.4)\n",
            "Requirement already satisfied: pytz>=2022.5 in /usr/local/lib/python3.10/dist-packages (from yfinance) (2023.4)\n",
            "Requirement already satisfied: frozendict>=2.3.4 in /usr/local/lib/python3.10/dist-packages (from yfinance) (2.4.2)\n",
            "Requirement already satisfied: peewee>=3.16.2 in /usr/local/lib/python3.10/dist-packages (from yfinance) (3.17.3)\n",
            "Requirement already satisfied: beautifulsoup4>=4.11.1 in /usr/local/lib/python3.10/dist-packages (from yfinance) (4.12.3)\n",
            "Requirement already satisfied: html5lib>=1.1 in /usr/local/lib/python3.10/dist-packages (from yfinance) (1.1)\n",
            "Requirement already satisfied: soupsieve>1.2 in /usr/local/lib/python3.10/dist-packages (from beautifulsoup4>=4.11.1->yfinance) (2.5)\n",
            "Requirement already satisfied: six>=1.9 in /usr/local/lib/python3.10/dist-packages (from html5lib>=1.1->yfinance) (1.16.0)\n",
            "Requirement already satisfied: webencodings in /usr/local/lib/python3.10/dist-packages (from html5lib>=1.1->yfinance) (0.5.1)\n",
            "Requirement already satisfied: python-dateutil>=2.8.2 in /usr/local/lib/python3.10/dist-packages (from pandas>=1.3.0->yfinance) (2.8.2)\n",
            "Requirement already satisfied: tzdata>=2022.1 in /usr/local/lib/python3.10/dist-packages (from pandas>=1.3.0->yfinance) (2024.1)\n",
            "Requirement already satisfied: charset-normalizer<4,>=2 in /usr/local/lib/python3.10/dist-packages (from requests>=2.31->yfinance) (3.3.2)\n",
            "Requirement already satisfied: idna<4,>=2.5 in /usr/local/lib/python3.10/dist-packages (from requests>=2.31->yfinance) (3.7)\n",
            "Requirement already satisfied: urllib3<3,>=1.21.1 in /usr/local/lib/python3.10/dist-packages (from requests>=2.31->yfinance) (2.0.7)\n",
            "Requirement already satisfied: certifi>=2017.4.17 in /usr/local/lib/python3.10/dist-packages (from requests>=2.31->yfinance) (2024.2.2)\n"
          ]
        }
      ],
      "source": [
        "# install main library YFinance\n",
        "!pip install yfinance"
      ]
    },
    {
      "cell_type": "code",
      "source": [
        "# IMPORTS\n",
        "import numpy as np\n",
        "import pandas as pd\n",
        "\n",
        "#Fin Data Sources\n",
        "import yfinance as yf\n",
        "import pandas_datareader as pdr\n",
        "\n",
        "#Data viz\n",
        "import plotly.graph_objs as go\n",
        "import plotly.express as px\n",
        "\n",
        "import time\n",
        "from datetime import date"
      ],
      "metadata": {
        "id": "WKc4PBzO1pIc"
      },
      "execution_count": 3,
      "outputs": []
    },
    {
      "cell_type": "code",
      "source": [
        "end = date.today()\n",
        "print(f'Year = {end.year}; month= {end.month}; day={end.day}')\n",
        "\n",
        "start = date(year=end.year-70, month=end.month, day=end.day)\n",
        "print(f'Period for indexes: {start} to {end} ')"
      ],
      "metadata": {
        "colab": {
          "base_uri": "https://localhost:8080/"
        },
        "id": "Hf7rAZAl3DrD",
        "outputId": "8ee0091e-e73a-411b-80a0-969044ba7445"
      },
      "execution_count": 4,
      "outputs": [
        {
          "output_type": "stream",
          "name": "stdout",
          "text": [
            "Year = 2024; month= 4; day=22\n",
            "Period for indexes: 1954-04-22 to 2024-04-22 \n"
          ]
        }
      ]
    },
    {
      "cell_type": "code",
      "source": [
        "# Real Gross Domestic Product (GDPC1), Billions of Chained 2017 Dollars, Seasonally Adjusted Annual Rate\n",
        "# https://fred.stlouisfed.org/series/GDPC1\n",
        "gdpc1 = pdr.DataReader(\"GDPC1\", \"fred\", start=start)"
      ],
      "metadata": {
        "id": "dwvrm1FQ1pQt"
      },
      "execution_count": 4,
      "outputs": []
    },
    {
      "cell_type": "code",
      "source": [
        "gdpc1['gdpc1_us_yoy'] = gdpc1.GDPC1/gdpc1.GDPC1.shift(4)-1\n",
        "gdpc1['gdpc1_us_qoq'] = gdpc1.GDPC1/gdpc1.GDPC1.shift(4)-1\n",
        "gdpc1.tail()"
      ],
      "metadata": {
        "colab": {
          "base_uri": "https://localhost:8080/",
          "height": 237
        },
        "id": "JRGqCVoM2qwr",
        "outputId": "00b22490-b1d2-4de0-f34f-5432f80c0a5b"
      },
      "execution_count": 5,
      "outputs": [
        {
          "output_type": "execute_result",
          "data": {
            "text/plain": [
              "                GDPC1  gdpc1_us_yoy  gdpc1_us_qoq\n",
              "DATE                                             \n",
              "2022-10-01  21989.981      0.006517      0.006517\n",
              "2023-01-01  22112.329      0.017179      0.017179\n",
              "2023-04-01  22225.350      0.023825      0.023825\n",
              "2023-07-01  22490.692      0.029269      0.029269\n",
              "2023-10-01  22679.255      0.031345      0.031345"
            ],
            "text/html": [
              "\n",
              "  <div id=\"df-2fbaa374-0f13-4b4c-b5eb-aa17a0fcecfe\" class=\"colab-df-container\">\n",
              "    <div>\n",
              "<style scoped>\n",
              "    .dataframe tbody tr th:only-of-type {\n",
              "        vertical-align: middle;\n",
              "    }\n",
              "\n",
              "    .dataframe tbody tr th {\n",
              "        vertical-align: top;\n",
              "    }\n",
              "\n",
              "    .dataframe thead th {\n",
              "        text-align: right;\n",
              "    }\n",
              "</style>\n",
              "<table border=\"1\" class=\"dataframe\">\n",
              "  <thead>\n",
              "    <tr style=\"text-align: right;\">\n",
              "      <th></th>\n",
              "      <th>GDPC1</th>\n",
              "      <th>gdpc1_us_yoy</th>\n",
              "      <th>gdpc1_us_qoq</th>\n",
              "    </tr>\n",
              "    <tr>\n",
              "      <th>DATE</th>\n",
              "      <th></th>\n",
              "      <th></th>\n",
              "      <th></th>\n",
              "    </tr>\n",
              "  </thead>\n",
              "  <tbody>\n",
              "    <tr>\n",
              "      <th>2022-10-01</th>\n",
              "      <td>21989.981</td>\n",
              "      <td>0.006517</td>\n",
              "      <td>0.006517</td>\n",
              "    </tr>\n",
              "    <tr>\n",
              "      <th>2023-01-01</th>\n",
              "      <td>22112.329</td>\n",
              "      <td>0.017179</td>\n",
              "      <td>0.017179</td>\n",
              "    </tr>\n",
              "    <tr>\n",
              "      <th>2023-04-01</th>\n",
              "      <td>22225.350</td>\n",
              "      <td>0.023825</td>\n",
              "      <td>0.023825</td>\n",
              "    </tr>\n",
              "    <tr>\n",
              "      <th>2023-07-01</th>\n",
              "      <td>22490.692</td>\n",
              "      <td>0.029269</td>\n",
              "      <td>0.029269</td>\n",
              "    </tr>\n",
              "    <tr>\n",
              "      <th>2023-10-01</th>\n",
              "      <td>22679.255</td>\n",
              "      <td>0.031345</td>\n",
              "      <td>0.031345</td>\n",
              "    </tr>\n",
              "  </tbody>\n",
              "</table>\n",
              "</div>\n",
              "    <div class=\"colab-df-buttons\">\n",
              "\n",
              "  <div class=\"colab-df-container\">\n",
              "    <button class=\"colab-df-convert\" onclick=\"convertToInteractive('df-2fbaa374-0f13-4b4c-b5eb-aa17a0fcecfe')\"\n",
              "            title=\"Convert this dataframe to an interactive table.\"\n",
              "            style=\"display:none;\">\n",
              "\n",
              "  <svg xmlns=\"http://www.w3.org/2000/svg\" height=\"24px\" viewBox=\"0 -960 960 960\">\n",
              "    <path d=\"M120-120v-720h720v720H120Zm60-500h600v-160H180v160Zm220 220h160v-160H400v160Zm0 220h160v-160H400v160ZM180-400h160v-160H180v160Zm440 0h160v-160H620v160ZM180-180h160v-160H180v160Zm440 0h160v-160H620v160Z\"/>\n",
              "  </svg>\n",
              "    </button>\n",
              "\n",
              "  <style>\n",
              "    .colab-df-container {\n",
              "      display:flex;\n",
              "      gap: 12px;\n",
              "    }\n",
              "\n",
              "    .colab-df-convert {\n",
              "      background-color: #E8F0FE;\n",
              "      border: none;\n",
              "      border-radius: 50%;\n",
              "      cursor: pointer;\n",
              "      display: none;\n",
              "      fill: #1967D2;\n",
              "      height: 32px;\n",
              "      padding: 0 0 0 0;\n",
              "      width: 32px;\n",
              "    }\n",
              "\n",
              "    .colab-df-convert:hover {\n",
              "      background-color: #E2EBFA;\n",
              "      box-shadow: 0px 1px 2px rgba(60, 64, 67, 0.3), 0px 1px 3px 1px rgba(60, 64, 67, 0.15);\n",
              "      fill: #174EA6;\n",
              "    }\n",
              "\n",
              "    .colab-df-buttons div {\n",
              "      margin-bottom: 4px;\n",
              "    }\n",
              "\n",
              "    [theme=dark] .colab-df-convert {\n",
              "      background-color: #3B4455;\n",
              "      fill: #D2E3FC;\n",
              "    }\n",
              "\n",
              "    [theme=dark] .colab-df-convert:hover {\n",
              "      background-color: #434B5C;\n",
              "      box-shadow: 0px 1px 3px 1px rgba(0, 0, 0, 0.15);\n",
              "      filter: drop-shadow(0px 1px 2px rgba(0, 0, 0, 0.3));\n",
              "      fill: #FFFFFF;\n",
              "    }\n",
              "  </style>\n",
              "\n",
              "    <script>\n",
              "      const buttonEl =\n",
              "        document.querySelector('#df-2fbaa374-0f13-4b4c-b5eb-aa17a0fcecfe button.colab-df-convert');\n",
              "      buttonEl.style.display =\n",
              "        google.colab.kernel.accessAllowed ? 'block' : 'none';\n",
              "\n",
              "      async function convertToInteractive(key) {\n",
              "        const element = document.querySelector('#df-2fbaa374-0f13-4b4c-b5eb-aa17a0fcecfe');\n",
              "        const dataTable =\n",
              "          await google.colab.kernel.invokeFunction('convertToInteractive',\n",
              "                                                    [key], {});\n",
              "        if (!dataTable) return;\n",
              "\n",
              "        const docLinkHtml = 'Like what you see? Visit the ' +\n",
              "          '<a target=\"_blank\" href=https://colab.research.google.com/notebooks/data_table.ipynb>data table notebook</a>'\n",
              "          + ' to learn more about interactive tables.';\n",
              "        element.innerHTML = '';\n",
              "        dataTable['output_type'] = 'display_data';\n",
              "        await google.colab.output.renderOutput(dataTable, element);\n",
              "        const docLink = document.createElement('div');\n",
              "        docLink.innerHTML = docLinkHtml;\n",
              "        element.appendChild(docLink);\n",
              "      }\n",
              "    </script>\n",
              "  </div>\n",
              "\n",
              "\n",
              "<div id=\"df-87009bba-c2d3-4b84-a7bc-fda7200e3bd8\">\n",
              "  <button class=\"colab-df-quickchart\" onclick=\"quickchart('df-87009bba-c2d3-4b84-a7bc-fda7200e3bd8')\"\n",
              "            title=\"Suggest charts\"\n",
              "            style=\"display:none;\">\n",
              "\n",
              "<svg xmlns=\"http://www.w3.org/2000/svg\" height=\"24px\"viewBox=\"0 0 24 24\"\n",
              "     width=\"24px\">\n",
              "    <g>\n",
              "        <path d=\"M19 3H5c-1.1 0-2 .9-2 2v14c0 1.1.9 2 2 2h14c1.1 0 2-.9 2-2V5c0-1.1-.9-2-2-2zM9 17H7v-7h2v7zm4 0h-2V7h2v10zm4 0h-2v-4h2v4z\"/>\n",
              "    </g>\n",
              "</svg>\n",
              "  </button>\n",
              "\n",
              "<style>\n",
              "  .colab-df-quickchart {\n",
              "      --bg-color: #E8F0FE;\n",
              "      --fill-color: #1967D2;\n",
              "      --hover-bg-color: #E2EBFA;\n",
              "      --hover-fill-color: #174EA6;\n",
              "      --disabled-fill-color: #AAA;\n",
              "      --disabled-bg-color: #DDD;\n",
              "  }\n",
              "\n",
              "  [theme=dark] .colab-df-quickchart {\n",
              "      --bg-color: #3B4455;\n",
              "      --fill-color: #D2E3FC;\n",
              "      --hover-bg-color: #434B5C;\n",
              "      --hover-fill-color: #FFFFFF;\n",
              "      --disabled-bg-color: #3B4455;\n",
              "      --disabled-fill-color: #666;\n",
              "  }\n",
              "\n",
              "  .colab-df-quickchart {\n",
              "    background-color: var(--bg-color);\n",
              "    border: none;\n",
              "    border-radius: 50%;\n",
              "    cursor: pointer;\n",
              "    display: none;\n",
              "    fill: var(--fill-color);\n",
              "    height: 32px;\n",
              "    padding: 0;\n",
              "    width: 32px;\n",
              "  }\n",
              "\n",
              "  .colab-df-quickchart:hover {\n",
              "    background-color: var(--hover-bg-color);\n",
              "    box-shadow: 0 1px 2px rgba(60, 64, 67, 0.3), 0 1px 3px 1px rgba(60, 64, 67, 0.15);\n",
              "    fill: var(--button-hover-fill-color);\n",
              "  }\n",
              "\n",
              "  .colab-df-quickchart-complete:disabled,\n",
              "  .colab-df-quickchart-complete:disabled:hover {\n",
              "    background-color: var(--disabled-bg-color);\n",
              "    fill: var(--disabled-fill-color);\n",
              "    box-shadow: none;\n",
              "  }\n",
              "\n",
              "  .colab-df-spinner {\n",
              "    border: 2px solid var(--fill-color);\n",
              "    border-color: transparent;\n",
              "    border-bottom-color: var(--fill-color);\n",
              "    animation:\n",
              "      spin 1s steps(1) infinite;\n",
              "  }\n",
              "\n",
              "  @keyframes spin {\n",
              "    0% {\n",
              "      border-color: transparent;\n",
              "      border-bottom-color: var(--fill-color);\n",
              "      border-left-color: var(--fill-color);\n",
              "    }\n",
              "    20% {\n",
              "      border-color: transparent;\n",
              "      border-left-color: var(--fill-color);\n",
              "      border-top-color: var(--fill-color);\n",
              "    }\n",
              "    30% {\n",
              "      border-color: transparent;\n",
              "      border-left-color: var(--fill-color);\n",
              "      border-top-color: var(--fill-color);\n",
              "      border-right-color: var(--fill-color);\n",
              "    }\n",
              "    40% {\n",
              "      border-color: transparent;\n",
              "      border-right-color: var(--fill-color);\n",
              "      border-top-color: var(--fill-color);\n",
              "    }\n",
              "    60% {\n",
              "      border-color: transparent;\n",
              "      border-right-color: var(--fill-color);\n",
              "    }\n",
              "    80% {\n",
              "      border-color: transparent;\n",
              "      border-right-color: var(--fill-color);\n",
              "      border-bottom-color: var(--fill-color);\n",
              "    }\n",
              "    90% {\n",
              "      border-color: transparent;\n",
              "      border-bottom-color: var(--fill-color);\n",
              "    }\n",
              "  }\n",
              "</style>\n",
              "\n",
              "  <script>\n",
              "    async function quickchart(key) {\n",
              "      const quickchartButtonEl =\n",
              "        document.querySelector('#' + key + ' button');\n",
              "      quickchartButtonEl.disabled = true;  // To prevent multiple clicks.\n",
              "      quickchartButtonEl.classList.add('colab-df-spinner');\n",
              "      try {\n",
              "        const charts = await google.colab.kernel.invokeFunction(\n",
              "            'suggestCharts', [key], {});\n",
              "      } catch (error) {\n",
              "        console.error('Error during call to suggestCharts:', error);\n",
              "      }\n",
              "      quickchartButtonEl.classList.remove('colab-df-spinner');\n",
              "      quickchartButtonEl.classList.add('colab-df-quickchart-complete');\n",
              "    }\n",
              "    (() => {\n",
              "      let quickchartButtonEl =\n",
              "        document.querySelector('#df-87009bba-c2d3-4b84-a7bc-fda7200e3bd8 button');\n",
              "      quickchartButtonEl.style.display =\n",
              "        google.colab.kernel.accessAllowed ? 'block' : 'none';\n",
              "    })();\n",
              "  </script>\n",
              "</div>\n",
              "\n",
              "    </div>\n",
              "  </div>\n"
            ],
            "application/vnd.google.colaboratory.intrinsic+json": {
              "type": "dataframe",
              "summary": "{\n  \"name\": \"gdpc1\",\n  \"rows\": 5,\n  \"fields\": [\n    {\n      \"column\": \"DATE\",\n      \"properties\": {\n        \"dtype\": \"date\",\n        \"min\": \"2022-10-01 00:00:00\",\n        \"max\": \"2023-10-01 00:00:00\",\n        \"num_unique_values\": 5,\n        \"samples\": [\n          \"2023-01-01 00:00:00\",\n          \"2023-10-01 00:00:00\",\n          \"2023-04-01 00:00:00\"\n        ],\n        \"semantic_type\": \"\",\n        \"description\": \"\"\n      }\n    },\n    {\n      \"column\": \"GDPC1\",\n      \"properties\": {\n        \"dtype\": \"number\",\n        \"std\": 281.55881077547554,\n        \"min\": 21989.981,\n        \"max\": 22679.255,\n        \"num_unique_values\": 5,\n        \"samples\": [\n          22112.329,\n          22679.255,\n          22225.35\n        ],\n        \"semantic_type\": \"\",\n        \"description\": \"\"\n      }\n    },\n    {\n      \"column\": \"gdpc1_us_yoy\",\n      \"properties\": {\n        \"dtype\": \"number\",\n        \"std\": 0.010071775831595145,\n        \"min\": 0.006516916593409139,\n        \"max\": 0.031344911121114816,\n        \"num_unique_values\": 5,\n        \"samples\": [\n          0.017179273017444263,\n          0.031344911121114816,\n          0.023824681594386554\n        ],\n        \"semantic_type\": \"\",\n        \"description\": \"\"\n      }\n    },\n    {\n      \"column\": \"gdpc1_us_qoq\",\n      \"properties\": {\n        \"dtype\": \"number\",\n        \"std\": 0.010071775831595145,\n        \"min\": 0.006516916593409139,\n        \"max\": 0.031344911121114816,\n        \"num_unique_values\": 5,\n        \"samples\": [\n          0.017179273017444263,\n          0.031344911121114816,\n          0.023824681594386554\n        ],\n        \"semantic_type\": \"\",\n        \"description\": \"\"\n      }\n    }\n  ]\n}"
            }
          },
          "metadata": {},
          "execution_count": 5
        }
      ]
    },
    {
      "cell_type": "code",
      "source": [
        "print(gdpc1.info())"
      ],
      "metadata": {
        "colab": {
          "base_uri": "https://localhost:8080/"
        },
        "id": "t6P3q4_tb7Gi",
        "outputId": "2f5129af-6b20-4873-bc73-10dc14b7d9c7"
      },
      "execution_count": 6,
      "outputs": [
        {
          "output_type": "stream",
          "name": "stdout",
          "text": [
            "<class 'pandas.core.frame.DataFrame'>\n",
            "DatetimeIndex: 278 entries, 1954-07-01 to 2023-10-01\n",
            "Data columns (total 3 columns):\n",
            " #   Column        Non-Null Count  Dtype  \n",
            "---  ------        --------------  -----  \n",
            " 0   GDPC1         278 non-null    float64\n",
            " 1   gdpc1_us_yoy  274 non-null    float64\n",
            " 2   gdpc1_us_qoq  274 non-null    float64\n",
            "dtypes: float64(3)\n",
            "memory usage: 8.7 KB\n",
            "None\n"
          ]
        }
      ]
    },
    {
      "cell_type": "code",
      "source": [
        "# Filter the DataFrame to only include dates from 2023\n",
        "gdpc1_2023 = gdpc1[gdpc1.index.year == 2023]\n",
        "\n",
        "# Display the filtered DataFrame\n",
        "print(gdpc1_2023)"
      ],
      "metadata": {
        "colab": {
          "base_uri": "https://localhost:8080/"
        },
        "id": "ddgXh7b0bAWU",
        "outputId": "e6ef3f74-caa7-4428-9657-e531a2116cbe"
      },
      "execution_count": 7,
      "outputs": [
        {
          "output_type": "stream",
          "name": "stdout",
          "text": [
            "                GDPC1  gdpc1_us_yoy  gdpc1_us_qoq\n",
            "DATE                                             \n",
            "2023-01-01  22112.329      0.017179      0.017179\n",
            "2023-04-01  22225.350      0.023825      0.023825\n",
            "2023-07-01  22490.692      0.029269      0.029269\n",
            "2023-10-01  22679.255      0.031345      0.031345\n"
          ]
        }
      ]
    },
    {
      "cell_type": "code",
      "source": [
        "# Calculate the average YoY growth rate for 2023\n",
        "average_growth_rate = gdpc1_2023['gdpc1_us_yoy'].mean()\n",
        "\n",
        "# Convert to percentage\n",
        "average_growth_rate_percentage = average_growth_rate * 100\n",
        "\n",
        "# Round percentage to the nearest tenth\n",
        "percentage_rounded = round(average_growth_rate_percentage, 1)\n",
        "\n",
        "print(f\"Average YoY growth rate in 2023: {percentage_rounded:.1f}%\")"
      ],
      "metadata": {
        "colab": {
          "base_uri": "https://localhost:8080/"
        },
        "id": "FQ1Fu9R6Z5Nk",
        "outputId": "36718cbe-edcb-4111-bcd8-87de6b441f55"
      },
      "execution_count": 16,
      "outputs": [
        {
          "output_type": "stream",
          "name": "stdout",
          "text": [
            "Average YoY growth rate in 2023: 2.5%\n"
          ]
        }
      ]
    },
    {
      "cell_type": "code",
      "source": [
        "# Market Yield on U.S. Treasury Securities at 2-Year Constant Maturity, Quoted on an Investment Basis (DGS2)\n",
        "# https://fred.stlouisfed.org/series/DGS2\n",
        "# Market Yield on U.S. Treasury Securities at 10-Year Constant Maturity, Quoted on an Investment Basis (DGS10)\n",
        "# https://fred.stlouisfed.org/series/DGS10\n",
        "dgs2 = pdr.DataReader(\"DGS2\", \"fred\", start=start)\n",
        "\n",
        "dgs10 = pdr.DataReader(\"DGS10\", \"fred\", start=start)"
      ],
      "metadata": {
        "id": "Cbor5wka8sHk"
      },
      "execution_count": 9,
      "outputs": []
    },
    {
      "cell_type": "code",
      "source": [
        "print(dgs2.info(), dgs10.info())"
      ],
      "metadata": {
        "colab": {
          "base_uri": "https://localhost:8080/"
        },
        "id": "z3Fwx0cpBYuN",
        "outputId": "08576e06-9abe-4a71-b52d-f6465471d087"
      },
      "execution_count": 10,
      "outputs": [
        {
          "output_type": "stream",
          "name": "stdout",
          "text": [
            "<class 'pandas.core.frame.DataFrame'>\n",
            "DatetimeIndex: 12493 entries, 1976-06-01 to 2024-04-18\n",
            "Data columns (total 1 columns):\n",
            " #   Column  Non-Null Count  Dtype  \n",
            "---  ------  --------------  -----  \n",
            " 0   DGS2    11968 non-null  float64\n",
            "dtypes: float64(1)\n",
            "memory usage: 195.2 KB\n",
            "<class 'pandas.core.frame.DataFrame'>\n",
            "DatetimeIndex: 16253 entries, 1962-01-02 to 2024-04-18\n",
            "Data columns (total 1 columns):\n",
            " #   Column  Non-Null Count  Dtype  \n",
            "---  ------  --------------  -----  \n",
            " 0   DGS10   15560 non-null  float64\n",
            "dtypes: float64(1)\n",
            "memory usage: 254.0 KB\n",
            "None None\n"
          ]
        }
      ]
    },
    {
      "cell_type": "code",
      "source": [
        "# Join on datetime index\n",
        "result = dgs2.join(dgs10, how='inner')\n",
        "\n",
        "print(result.head())\n"
      ],
      "metadata": {
        "colab": {
          "base_uri": "https://localhost:8080/"
        },
        "id": "ZC5zZ611BiDB",
        "outputId": "871f4e2a-4b9e-48f5-8e94-fab4bc9f9ce0"
      },
      "execution_count": 11,
      "outputs": [
        {
          "output_type": "stream",
          "name": "stdout",
          "text": [
            "            DGS2  DGS10\n",
            "DATE                   \n",
            "1976-06-01  7.26   7.94\n",
            "1976-06-02  7.23   7.94\n",
            "1976-06-03  7.22   7.92\n",
            "1976-06-04  7.12   7.89\n",
            "1976-06-07  7.09   7.88\n"
          ]
        }
      ]
    },
    {
      "cell_type": "code",
      "source": [
        "print(result.info())"
      ],
      "metadata": {
        "colab": {
          "base_uri": "https://localhost:8080/"
        },
        "id": "hZa7L_K6LRlI",
        "outputId": "d5170f56-e080-4b9f-9a1b-d9d31fa99392"
      },
      "execution_count": 12,
      "outputs": [
        {
          "output_type": "stream",
          "name": "stdout",
          "text": [
            "<class 'pandas.core.frame.DataFrame'>\n",
            "DatetimeIndex: 12493 entries, 1976-06-01 to 2024-04-18\n",
            "Data columns (total 2 columns):\n",
            " #   Column  Non-Null Count  Dtype  \n",
            "---  ------  --------------  -----  \n",
            " 0   DGS2    11968 non-null  float64\n",
            " 1   DGS10   11968 non-null  float64\n",
            "dtypes: float64(2)\n",
            "memory usage: 292.8 KB\n",
            "None\n"
          ]
        }
      ]
    },
    {
      "cell_type": "code",
      "source": [
        "# Calculate the difference between DGS10 and DGS2\n",
        "result['DGS10_minus_DGS2'] = result['DGS10'] - result['DGS2']\n",
        "\n",
        "# Filter dates from 1/1/2000 onward\n",
        "filtered_result = result[result.index >= '2000-01-01']\n",
        "\n",
        "# Calculate the minimum value of DGS10_minus_DGS2\n",
        "min_value = filtered_result['DGS10_minus_DGS2'].min()\n",
        "\n",
        "# Round min_value to the nearest tenth\n",
        "min_value_rounded = round(min_value, 1)\n",
        "\n",
        "print(f\"The rounded minimum value of DGS10_minus_DGS2 is: {min_value_rounded:.1f}\")"
      ],
      "metadata": {
        "colab": {
          "base_uri": "https://localhost:8080/"
        },
        "id": "osiRvw1WL2Hi",
        "outputId": "65fab34f-51d2-4d1d-dbe7-70648dee4821"
      },
      "execution_count": 15,
      "outputs": [
        {
          "output_type": "stream",
          "name": "stdout",
          "text": [
            "The rounded minimum value of DGS10_minus_DGS2 is: -1.1\n"
          ]
        }
      ]
    },
    {
      "cell_type": "code",
      "source": [],
      "metadata": {
        "id": "tSynEGJ1TTFP"
      },
      "execution_count": null,
      "outputs": []
    },
    {
      "cell_type": "code",
      "source": [
        "# INDEXES from Yahoo Finance\n",
        "# SP500 index (SNP - Free Realtime Quote in USD)\n",
        "# WEB: https://finance.yahoo.com/quote/%5EGSPC/\n",
        "sp500_data = yf.download(tickers=\"^GSPC\", start=\"2019-04-09\", end=\"2024-04-09\")\n",
        "ipc_data = yf.download(tickers=\"^MXX\", start=\"2019-04-09\", end=\"2024-04-09\")\n",
        "\n",
        "# Extract closing prices\n",
        "sp500_close = sp500_data[\"Adj Close\"]\n",
        "ipc_close = ipc_data[\"Adj Close\"]\n",
        "\n",
        "# Calculate percentage growth\n",
        "sp500_growth = (sp500_close.iloc[-1] / sp500_close.iloc[0] - 1) * 100\n",
        "ipc_growth = (ipc_close.iloc[-1] / ipc_close.iloc[0] - 1) * 100\n",
        "\n",
        "# Determine which index had higher growth\n",
        "if sp500_growth > ipc_growth:\n",
        "    higher_index = \"S&P 500\"\n",
        "    higher_growth = round(sp500_growth)\n",
        "else:\n",
        "    higher_index = \"IPC Mexico\"\n",
        "    higher_growth = round(ipc_growth)\n",
        "\n",
        "print(f\"The {higher_index} had a growth of approximately {higher_growth}% over the 5-year period.\")"
      ],
      "metadata": {
        "colab": {
          "base_uri": "https://localhost:8080/"
        },
        "id": "RL2wsHZCPEDj",
        "outputId": "e7eb7359-b119-41dc-c762-a834389ebe01"
      },
      "execution_count": 17,
      "outputs": [
        {
          "output_type": "stream",
          "name": "stderr",
          "text": [
            "[*********************100%%**********************]  1 of 1 completed\n",
            "[*********************100%%**********************]  1 of 1 completed"
          ]
        },
        {
          "output_type": "stream",
          "name": "stdout",
          "text": [
            "The S&P 500 had a growth of approximately 81% over the 5-year period.\n"
          ]
        },
        {
          "output_type": "stream",
          "name": "stderr",
          "text": [
            "\n"
          ]
        }
      ]
    },
    {
      "cell_type": "code",
      "source": [
        "# Define the list of stock tickers\n",
        "stock_tickers = [\"2222.SR\", \"BRK-B\", \"AAPL\", \"MSFT\", \"GOOG\", \"JPM\"]\n",
        "\n",
        "# Fetch historical data for 2023\n",
        "stock_data = yf.download(tickers=stock_tickers, start=\"2023-01-01\", end=\"2023-12-31\")\n",
        "\n",
        "# Extract adjusted closing prices\n",
        "adj_close_prices = stock_data[\"Adj Close\"]\n",
        "\n",
        "# Calculate maximum-minimum adjusted closing price for each stock\n",
        "max_adj_close = adj_close_prices.max()\n",
        "min_adj_close = adj_close_prices.min()\n",
        "\n",
        "# Calculate the range ratio\n",
        "range_ratio = (max_adj_close - min_adj_close) / max_adj_close\n",
        "\n",
        "# Round the result to two decimal places\n",
        "range_ratio_rounded = round(range_ratio, 2)\n",
        "\n",
        "# Display the results\n",
        "for ticker, ratio in zip(stock_tickers, range_ratio_rounded):\n",
        "    print(f\"{ticker}: Range Ratio = {ratio:.2f}\")\n",
        "\n",
        "# Determine the stock with the largest range ratio\n",
        "max_range_stock = stock_tickers[range_ratio_rounded.argmax()]\n",
        "print(f\"\\nThe stock with the largest range ratio is {max_range_stock}.\")"
      ],
      "metadata": {
        "colab": {
          "base_uri": "https://localhost:8080/"
        },
        "id": "HUx8Sj4z28Mf",
        "outputId": "86ae2ea9-469c-4791-eded-7103ec9accef"
      },
      "execution_count": 18,
      "outputs": [
        {
          "output_type": "stream",
          "name": "stderr",
          "text": [
            "[*********************100%%**********************]  6 of 6 completed\n"
          ]
        },
        {
          "output_type": "stream",
          "name": "stdout",
          "text": [
            "2222.SR: Range Ratio = 0.21\n",
            "BRK-B: Range Ratio = 0.37\n",
            "AAPL: Range Ratio = 0.21\n",
            "MSFT: Range Ratio = 0.39\n",
            "GOOG: Range Ratio = 0.28\n",
            "JPM: Range Ratio = 0.42\n",
            "\n",
            "The stock with the largest range ratio is JPM.\n"
          ]
        }
      ]
    },
    {
      "cell_type": "code",
      "source": [
        "# Fetch dividend data for 2023\n",
        "dividend_data = yf.download(tickers=stock_tickers, start=\"2023-01-01\", end=\"2023-12-31\", actions=True)\n",
        "\n",
        "# Extract dividends and closing prices\n",
        "dividends = dividend_data[\"Dividends\"]\n",
        "adj_close_prices = dividend_data[\"Adj Close\"]\n",
        "\n",
        "# Calculate total dividends paid in 2023\n",
        "total_dividends = dividends.sum()\n",
        "\n",
        "# Get the adjusted closing price on the last trading day of the year\n",
        "last_day_adj_close = adj_close_prices.iloc[-1]\n",
        "\n",
        "# Calculate dividend yield for each stock\n",
        "dividend_yield = (total_dividends / last_day_adj_close) * 100\n",
        "\n",
        "# Find the maximum value\n",
        "max_dividend_yield = dividend_yield.max()\n",
        "\n",
        "# Round to one decimal place\n",
        "max_dividend_yield_rounded = round(max_dividend_yield, 1)\n",
        "\n",
        "print(f\"The maximum dividend yield in 2023 is approximately {max_dividend_yield_rounded}%.\")"
      ],
      "metadata": {
        "colab": {
          "base_uri": "https://localhost:8080/"
        },
        "id": "XBvm9M1B30P6",
        "outputId": "7119706f-2536-4e42-c206-0c6cb65dc625"
      },
      "execution_count": 19,
      "outputs": [
        {
          "output_type": "stream",
          "name": "stderr",
          "text": [
            "[*********************100%%**********************]  6 of 6 completed"
          ]
        },
        {
          "output_type": "stream",
          "name": "stdout",
          "text": [
            "The maximum dividend yield in 2023 is approximately 2.4%.\n"
          ]
        },
        {
          "output_type": "stream",
          "name": "stderr",
          "text": [
            "\n"
          ]
        }
      ]
    },
    {
      "cell_type": "code",
      "source": [
        "# Define the ticker for the S&P 500 (SPX)\n",
        "sp500_ticker = \"^GSPC\"\n",
        "\n",
        "# Fetch historical data for the S&P 500\n",
        "sp500_data = yf.download(tickers=sp500_ticker, start=\"2019-01-01\", end=\"2024-04-09\")\n",
        "\n",
        "# Calculate daily returns\n",
        "sp500_data[\"Daily_Return\"] = sp500_data[\"Adj Close\"].pct_change()\n",
        "\n",
        "# Calculate annualized volatility (standard deviation)\n",
        "annual_volatility = sp500_data[\"Daily_Return\"].std() * (252 ** 0.5)  # 252 trading days in a year\n",
        "\n",
        "print(f\"Annualized volatility of the S&P 500: {annual_volatility:.2%}\")"
      ],
      "metadata": {
        "colab": {
          "base_uri": "https://localhost:8080/"
        },
        "id": "jIkJ8FRU4sca",
        "outputId": "b862453e-35da-443c-b83e-4562f6bcb3fe"
      },
      "execution_count": 20,
      "outputs": [
        {
          "output_type": "stream",
          "name": "stderr",
          "text": [
            "\r[*********************100%%**********************]  1 of 1 completed"
          ]
        },
        {
          "output_type": "stream",
          "name": "stdout",
          "text": [
            "Annualized volatility of the S&P 500: 20.93%\n"
          ]
        },
        {
          "output_type": "stream",
          "name": "stderr",
          "text": [
            "\n"
          ]
        }
      ]
    }
  ]
}